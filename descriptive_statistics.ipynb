{
  "nbformat": 4,
  "nbformat_minor": 0,
  "metadata": {
    "colab": {
      "name": "descriptive statistics",
      "private_outputs": true,
      "provenance": [],
      "collapsed_sections": []
    },
    "kernelspec": {
      "name": "python3",
      "display_name": "Python 3"
    },
    "language_info": {
      "name": "python"
    }
  },
  "cells": [
    {
      "cell_type": "code",
      "metadata": {
        "id": "U-Vv046Wsspk"
      },
      "source": [
        "import pandas as pd"
      ],
      "execution_count": null,
      "outputs": []
    },
    {
      "cell_type": "code",
      "metadata": {
        "id": "NTSSJ8EDs0_9"
      },
      "source": [
        "import os\n",
        "\n",
        "import matplotlib.pyplot as plt"
      ],
      "execution_count": null,
      "outputs": []
    },
    {
      "cell_type": "code",
      "metadata": {
        "id": "OZK_V4uss5WR"
      },
      "source": [
        "pd.read_csv(\"data.csv\")"
      ],
      "execution_count": null,
      "outputs": []
    },
    {
      "cell_type": "code",
      "metadata": {
        "id": "uXl_LUNks_vT"
      },
      "source": [
        "import numpy as np"
      ],
      "execution_count": null,
      "outputs": []
    },
    {
      "cell_type": "code",
      "metadata": {
        "id": "xf_rYm6wtSNE"
      },
      "source": [
        "a = pd.read_csv(\"data.csv\")\n",
        "print (a)"
      ],
      "execution_count": null,
      "outputs": []
    },
    {
      "cell_type": "code",
      "metadata": {
        "id": "BzYan7ATt4o7"
      },
      "source": [
        "# mean,median,mode\n",
        "mean = a['Annual_HH_Income'].mean()\n",
        "median = a['Annual_HH_Income'].median()\n",
        "mode = a['Annual_HH_Income'].mode()\n",
        "print ('Mean salary: ' + str(mean))\n",
        "print ('Median salary: ' + str(median))\n",
        "print ('Mode salary: ' + str(mode))\n"
      ],
      "execution_count": null,
      "outputs": []
    },
    {
      "cell_type": "code",
      "metadata": {
        "id": "UQzEkGgBu8zl"
      },
      "source": [
        "# standard deviation,variance,correlation\n",
        "std = a['Annual_HH_Income'].std() \n",
        "var = a['Annual_HH_Income'].var()\n",
        "corr = a.corr()\n",
        "print ('Standard deviation:' + str(std))\n",
        "print ('Variance:' + str(var))\n",
        "print ('Correlation:' + str(corr))"
      ],
      "execution_count": null,
      "outputs": []
    },
    {
      "cell_type": "code",
      "metadata": {
        "id": "gNXLisWPwMP4"
      },
      "source": [
        "# normal distribution\n",
        "\n",
        "# Importing required libraries\n",
        " \n",
        "import numpy as np\n",
        "import matplotlib.pyplot as plt\n",
        " \n",
        "# Creating a series of data of in range of 1-50.\n",
        "x = np.linspace(1,50,200)\n",
        " \n",
        "#Creating a Function.\n",
        "def normal_dist(x , mean , std):\n",
        "    prob_density = (np.pi*std) * np.exp(-0.5*((x-mean)/std)**2)\n",
        "    return prob_density\n",
        " \n",
        " \n",
        "#Apply function to the data.\n",
        "pdf = normal_dist(x,mean,std)\n",
        " \n",
        "#Plotting the Results\n",
        "plt.plot(x,pdf , color = 'red')\n",
        "plt.xlabel('Data points')\n",
        "plt.ylabel('Probability Density')"
      ],
      "execution_count": null,
      "outputs": []
    },
    {
      "cell_type": "code",
      "metadata": {
        "id": "gHXhssDjVLR1"
      },
      "source": [
        "# creating curve\n",
        "# import required libraries\n",
        "from scipy.stats import norm\n",
        "import numpy as np\n",
        "import matplotlib.pyplot as plt\n",
        "import seaborn as sb\n",
        " \n",
        "# Creating the distribution\n",
        "data = np.arange(0,0.5)\n",
        "pdf = norm.pdf(data , loc = 5.3 , scale = 1 )\n",
        " \n",
        "#Visualizing the distribution\n",
        " \n",
        "sb.set_style('whitegrid')\n",
        "sb.lineplot(data, pdf , color = 'black')\n",
        "plt.xlabel('Heights')\n",
        "plt.ylabel('Probability Density')"
      ],
      "execution_count": null,
      "outputs": []
    },
    {
      "cell_type": "code",
      "metadata": {
        "id": "Jll4dscZWqNR"
      },
      "source": [
        "#skewness \n",
        "numerical_features=[feature for feature in a.columns if a[feature].dtypes!='object']\n",
        "for feature in numerical_features:\n",
        "    if feature=='class(target)':\n",
        "        pass\n",
        "    else:\n",
        "    \n",
        "        \n",
        "        a[feature].hist()\n",
        "        plt.xlabel(feature)\n",
        "        plt.show()"
      ],
      "execution_count": null,
      "outputs": []
    },
    {
      "cell_type": "code",
      "metadata": {
        "id": "I_s8waKEX-Hn"
      },
      "source": [
        "pip install statsmodels"
      ],
      "execution_count": null,
      "outputs": []
    },
    {
      "cell_type": "code",
      "metadata": {
        "id": "NFmk0N1U6YOe"
      },
      "source": [
        "#Q-Q plot\n",
        "import statsmodels.api as smi\n",
        "import pylab\n",
        "\n",
        "sample_data = np.random.normal(0,1, 1000)\n",
        "\n",
        "smi.qqplot(sample_data, line = \"r\")\n",
        "pylab.show()"
      ],
      "execution_count": null,
      "outputs": []
    },
    {
      "cell_type": "code",
      "metadata": {
        "id": "0FUcWypu8B01"
      },
      "source": [
        "a[0:5]"
      ],
      "execution_count": null,
      "outputs": []
    },
    {
      "cell_type": "code",
      "metadata": {
        "id": "iuHCs3ry9uTs"
      },
      "source": [
        "pip install scipy"
      ],
      "execution_count": null,
      "outputs": []
    },
    {
      "cell_type": "code",
      "metadata": {
        "id": "J9gnbr5O9yH7"
      },
      "source": [
        "from scipy.stats import boxcox\n",
        "from scipy.special import inv_boxcox\n",
        "Annual_HH_Income\t,fitted_lambda= boxcox(y,lmbda=None)\n",
        "inv_boxcox(Annual_HH_Income\t,fitted_lambda)"
      ],
      "execution_count": null,
      "outputs": []
    }
  ]
}